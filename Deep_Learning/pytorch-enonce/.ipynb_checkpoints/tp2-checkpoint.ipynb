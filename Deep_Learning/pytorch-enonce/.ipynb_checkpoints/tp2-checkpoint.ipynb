{
 "cells": [
  {
   "cell_type": "markdown",
   "metadata": {},
   "source": [
    "## PyTorch Tutorial\n",
    "\n",
    "\n",
    "M Sdika\n",
    "\n",
    "Adapted from\n",
    "\n",
    "    https://github.com/mila-udem/welcome_tutorials/tree/master/pytorch\n",
    "\n"
   ]
  },
  {
   "cell_type": "markdown",
   "metadata": {},
   "source": [
    "## Classifying MNIST & CIFAR-10 with Convnets & ResNets"
   ]
  },
  {
   "cell_type": "code",
   "execution_count": 1,
   "metadata": {},
   "outputs": [],
   "source": [
    "import time\n",
    "import numpy as np\n"
   ]
  },
  {
   "cell_type": "code",
   "execution_count": 2,
   "metadata": {},
   "outputs": [],
   "source": [
    "import torch\n",
    "import torch.nn as nn\n",
    "import torch.optim as optim\n",
    "import torch.nn.init as init\n",
    "import torch.nn.functional as F\n"
   ]
  },
  {
   "cell_type": "code",
   "execution_count": 3,
   "metadata": {},
   "outputs": [],
   "source": [
    "import torchvision\n",
    "import torchvision.transforms"
   ]
  },
  {
   "cell_type": "code",
   "execution_count": 4,
   "metadata": {},
   "outputs": [],
   "source": [
    "import matplotlib.pyplot as plt"
   ]
  },
  {
   "cell_type": "code",
   "execution_count": 5,
   "metadata": {},
   "outputs": [],
   "source": [
    "def count_parameters(model):\n",
    "    #for parameter in model.parameters():\n",
    "    #    print(parameter)\n",
    "    #print ('nb of trainable parameters')\n",
    "    return (sum([p.numel() for p in model.parameters() if p.requires_grad]))\n"
   ]
  },
  {
   "cell_type": "markdown",
   "metadata": {},
   "source": [
    "### Define image transformations &  Initialize datasets"
   ]
  },
  {
   "cell_type": "code",
   "execution_count": 12,
   "metadata": {},
   "outputs": [
    {
     "name": "stdout",
     "output_type": "stream",
     "text": [
      "Dataset MNIST\n",
      "    Number of datapoints: 60000\n",
      "    Root location: ../data\n",
      "    Split: Train\n",
      "    StandardTransform\n",
      "Transform: Compose(\n",
      "               Resize(size=(28, 28), interpolation=bilinear, max_size=None, antialias=warn)\n",
      "               ToTensor()\n",
      "           )\n",
      "Reduced Dataset\n",
      "Number of samples:  6000\n",
      "tensor(0.)\n",
      "tensor(1.)\n",
      "Image Size:  torch.Size([1, 28, 28])\n",
      "3\n"
     ]
    }
   ],
   "source": [
    "# downsample image for speed\n",
    "mnist_transforms = torchvision.transforms.Compose([torchvision.transforms.Resize((28,28), interpolation=2), torchvision.transforms.ToTensor()])\n",
    "\n",
    "mnist_train0     = torchvision.datasets.MNIST(root='../data', train=True,  transform=mnist_transforms, download=True)\n",
    "mnist_test       = torchvision.datasets.MNIST(root='../data', train=False, transform=mnist_transforms, download=True)\n",
    "\n",
    "print (mnist_train0)\n",
    "\n",
    "# subsample dataset for speed\n",
    "# to be removed.... and replaced by torch.utils.data.Subset\n",
    "class Subset(torch.utils.data.Dataset):\n",
    "    def __init__(self, dataset, indices):\n",
    "        self.dataset = dataset\n",
    "        self.indices = indices\n",
    "    def __getitem__(self, idx):\n",
    "        return self.dataset[self.indices[idx]]\n",
    "    def __len__(self):\n",
    "        return len(self.indices)\n",
    "mnist_train = Subset(mnist_train0, range(0,len(mnist_train0),10))   \n",
    "\n",
    "print('Reduced Dataset')\n",
    "print('Number of samples: ', len(mnist_train))\n",
    "img, target = mnist_train[3] # load 4th sample\n",
    "print(img.min())\n",
    "print(img.max())\n",
    "\n",
    "\n",
    "print(\"Image Size: \", img.size())\n",
    "print(target)\n",
    "\n",
    "\n",
    "\n"
   ]
  },
  {
   "cell_type": "markdown",
   "metadata": {},
   "source": [
    "### PLOT SOME RANDOM DIGITS"
   ]
  },
  {
   "cell_type": "code",
   "execution_count": 10,
   "metadata": {},
   "outputs": [
    {
     "data": {
      "image/png": "[encoded data removed]",
      "text/plain": [
       "<Figure size 800x400 with 10 Axes>"
      ]
     },
     "metadata": {},
     "output_type": "display_data"
    }
   ],
   "source": [
    "fig, axes = plt.subplots(nrows=2, ncols=5, figsize=(8, 4), squeeze=False)\n",
    "\n",
    "for i in range(10):\n",
    "    r = i // 5\n",
    "    c = i % 5\n",
    "    idx = np.random.choice(len(mnist_train), 1)[0]\n",
    "    x = mnist_train[idx][0].numpy()\n",
    "    y = mnist_train[idx][1]\n",
    "    axes[r, c].imshow(x[0, :, :])\n",
    "    axes[r, c].set_title('y={}'.format(y))\n",
    "    \n",
    "plt.show()"
   ]
  },
  {
   "cell_type": "markdown",
   "metadata": {},
   "source": [
    "### Create multi-threaded DataLoaders"
   ]
  },
  {
   "cell_type": "code",
   "execution_count": 11,
   "metadata": {},
   "outputs": [],
   "source": [
    "trainloader = torch.utils.data.DataLoader(mnist_train, batch_size=64, shuffle=True, num_workers=2)\n",
    "testloader  = torch.utils.data.DataLoader(mnist_test,  batch_size=64, shuffle=True, num_workers=2)"
   ]
  },
  {
   "cell_type": "markdown",
   "metadata": {},
   "source": [
    "# Main classifier that subclasses nn.Module\n",
    "\n",
    "implements:\n",
    "1. multi layer perceptron\n",
    "2. convolutional neural network\n",
    "3. a convolutional neural network with convolution layers only (implement FC with conv)\n",
    "4. residual network\n",
    "\n",
    "Try to improve accuracy\n",
    "\n",
    "Play with the following paramèters:\n",
    "- lr initialization\n",
    "- epochs\n",
    "- train_batch_size\n",
    "- More hidden layers\n",
    "- Convolutions + max pooling\n",
    "- Dropout\n",
    "- Residual layers\n",
    "- changer l'algorithme de descente de gradient (Adam)\n",
    "- implement early stopping\n",
    "- lr scheduling\n",
    "\n"
   ]
  },
  {
   "cell_type": "markdown",
   "metadata": {},
   "source": [
    "#### Multi Layer Perceptron"
   ]
  },
  {
   "cell_type": "code",
   "execution_count": 13,
   "metadata": {},
   "outputs": [],
   "source": [
    "class MLPNet(nn.Module):\n",
    "    def __init__(self,s):\n",
    "        super(MLPNet, self).__init__()\n",
    "        self.name = 'mlp'\n",
    "        self.s    = s\n",
    "        self.fc1  = nn.Linear(int(np.prod(s)), 10)\n",
    "\n",
    "    def forward(self, x):\n",
    "        x = x.view(-1, int(np.prod(self.s)))  # flatten images\n",
    "        x = self.fc1(x)\n",
    "        return (x)\n",
    "\n",
    "class MLPNet1(nn.Module):\n",
    "    def __init__(self,s):\n",
    "        super(MLPNet1, self).__init__()\n",
    "        self.name = 'mlpnet1'\n",
    "        self.s    = s\n",
    "        self.fc1  = nn.Linear(int(np.prod(s)), 100)\n",
    "        self.fc2  = nn.Linear(100, 10)\n",
    "\n",
    "    def forward(self, x):\n",
    "        x = x.view(-1, int(np.prod(self.s)))  # flatten images\n",
    "        x = self.fc1(x)\n",
    "        x = self.fc2(x)\n",
    "        return (x)\n",
    "\n",
    "class MLPNet2(nn.Module):\n",
    "    def __init__(self,s):\n",
    "        super(MLPNet2, self).__init__()\n",
    "        self.name = 'mlpnet2'\n",
    "        self.s    = s\n",
    "        self.fc1  = nn.Linear(int(np.prod(s)), 100)\n",
    "        self.fc2  = nn.Linear(100, 10)\n",
    "\n",
    "    def forward(self, x):\n",
    "        x = x.view(-1, int(np.prod(self.s)))  # flatten images\n",
    "        x = self.fc1(x)\n",
    "        x = F.relu(x)\n",
    "        x = self.fc2(x)\n",
    "        return (x)\n"
   ]
  },
  {
   "cell_type": "markdown",
   "metadata": {},
   "source": [
    "#### Convolutional Neural Network"
   ]
  },
  {
   "cell_type": "code",
   "execution_count": 20,
   "metadata": {},
   "outputs": [],
   "source": [
    "class ConvNet(nn.Module):\n",
    "    \"\"\"Convnet Classifier\"\"\"\n",
    "    def __init__(self):\n",
    "        super(ConvNet,self).__init__()\n",
    "        self.name = 'CNN1'\n",
    "        #self.conv = 1 # nn.Sequential(.....)\n",
    "        self.conv = nn.Sequential(\n",
    "            nn.Conv2d(1, 32, 3, padding=1),\n",
    "            nn.ReLU(),\n",
    "            nn.MaxPool2d(2),\n",
    "            nn.Conv2d(32, 64, 3, padding=1),\n",
    "            nn.ReLU(),\n",
    "            nn.MaxPool2d(2)\n",
    "        )\n",
    "\n",
    "        # Logistic Regression\n",
    "        self.fc = nn.Linear(64*7*7, 10)\n",
    "\n",
    "    def forward(self, x):\n",
    "        x = self.conv(x)\n",
    "        x = x.view(-1, 64*7*7)\n",
    "        x = self.fc(x)\n",
    "        return x\n",
    "    \n",
    "\n",
    "class ResBlock(nn.Module):\n",
    "    expansion = 1\n",
    "    def __init__(self, nchannel):\n",
    "        super(ResBlock, self).__init__()\n",
    "        \n",
    "    def forward(self, x):\n",
    "        return x\n",
    "    \n",
    "    \n",
    "    \n",
    "class ResNet(nn.Module):\n",
    "\n",
    "    def __init__(self, num_classes=10):\n",
    "        super(ResNet, self).__init__()\n",
    "        self.name    = 'resnet'\n",
    "        \n",
    "    def forward(self, x):\n",
    "        return x\n",
    "\n",
    "    "
   ]
  },
  {
   "cell_type": "code",
   "execution_count": 21,
   "metadata": {},
   "outputs": [],
   "source": [
    "## initialize the network parameters\n",
    "\n",
    "def init_params(net):\n",
    "    '''Init layer parameters.'''\n",
    "    for m in net.modules():\n",
    "        #print(m)\n",
    "        if isinstance(m, nn.Conv2d):\n",
    "            init.kaiming_normal_(m.weight, mode='fan_out')\n",
    "            #if m.bias:\n",
    "            #init.constant_(m.bias, 0)\n",
    "        elif isinstance(m, nn.BatchNorm2d):\n",
    "            init.constant_(m.weight, 1)\n",
    "            init.constant_(m.bias, 0)\n",
    "        elif isinstance(m, nn.Linear):\n",
    "            init.normal_(m.weight, std=1e-3)\n",
    "            #if m.bias:\n",
    "            init.constant_(m.bias, 0) "
   ]
  },
  {
   "cell_type": "code",
   "execution_count": 22,
   "metadata": {},
   "outputs": [
    {
     "name": "stdout",
     "output_type": "stream",
     "text": [
      "use CPU\n"
     ]
    }
   ],
   "source": [
    "if torch.cuda.is_available():\n",
    "    print('use cuda')\n",
    "    device = torch.device('cuda')\n",
    "else:\n",
    "    print('use CPU')\n",
    "    device = torch.device('cpu')"
   ]
  },
  {
   "cell_type": "code",
   "execution_count": 23,
   "metadata": {},
   "outputs": [],
   "source": [
    "dlossesTR    = {}\n",
    "dlossesTRAll = {}\n",
    "dlossesTE    = {}\n",
    "didxEpoch    = {}\n",
    "dbestAcc     = {}\n",
    "dnbParam     = {}"
   ]
  },
  {
   "cell_type": "code",
   "execution_count": 24,
   "metadata": {},
   "outputs": [
    {
     "name": "stdout",
     "output_type": "stream",
     "text": [
      "mlp_lr0_1.0e+00\n"
     ]
    }
   ],
   "source": [
    "s = mnist_train[0][0].size()\n",
    "\n",
    "net = MLPNet(s)\n",
    "#net = ConvNet()\n",
    "#net = ResNet()\n",
    "\n",
    "# randon init of the network weight\n",
    "init_params(net)\n",
    "\n",
    "\n",
    "lr0 = 1\n",
    "\n",
    "test_name = net.name + '_lr0_' + \"{:.1e}\".format(lr0)\n",
    "print(test_name)\n",
    "\n",
    "# transfer the network on gpu if avalaible\n",
    "net = net.to(device)\n",
    "\n",
    "optimizer = torch.optim.Adam(net.parameters(), lr=lr0)\n",
    "criterion = nn.CrossEntropyLoss()\n",
    "\n",
    "# scheduler = torch.optim.lr_scheduler.StepLR(optimizer, step_size=5, gamma=0.5)\n",
    "lr_step  = 5\n",
    "lr_gamma = 0.1\n"
   ]
  },
  {
   "cell_type": "code",
   "execution_count": 16,
   "metadata": {
    "scrolled": true
   },
   "outputs": [
    {
     "ename": "NameError",
     "evalue": "name 'lr0' is not defined",
     "output_type": "error",
     "traceback": [
      "\u001b[0;31m---------------------------------------------------------------------------\u001b[0m",
      "\u001b[0;31mNameError\u001b[0m                                 Traceback (most recent call last)",
      "\u001b[1;32m/Users/Adrien/Documents/CPE/5ETI/Deep Learning/pytorch-enonce/.ipynb_checkpoints/tp2-checkpoint.ipynb Cell 23\u001b[0m line \u001b[0;36m1\n\u001b[1;32m      <a href='vscode-notebook-cell:/Users/Adrien/Documents/CPE/5ETI/Deep%20Learning/pytorch-enonce/.ipynb_checkpoints/tp2-checkpoint.ipynb#X31sZmlsZQ%3D%3D?line=7'>8</a>\u001b[0m \u001b[39m# iterate for each epoch\u001b[39;00m\n\u001b[1;32m      <a href='vscode-notebook-cell:/Users/Adrien/Documents/CPE/5ETI/Deep%20Learning/pytorch-enonce/.ipynb_checkpoints/tp2-checkpoint.ipynb#X31sZmlsZQ%3D%3D?line=8'>9</a>\u001b[0m \u001b[39mfor\u001b[39;00m epoch \u001b[39min\u001b[39;00m \u001b[39mrange\u001b[39m(\u001b[39m200\u001b[39m):\n\u001b[1;32m     <a href='vscode-notebook-cell:/Users/Adrien/Documents/CPE/5ETI/Deep%20Learning/pytorch-enonce/.ipynb_checkpoints/tp2-checkpoint.ipynb#X31sZmlsZQ%3D%3D?line=9'>10</a>\u001b[0m     \u001b[39m# potentially decrease lr \u001b[39;00m\n\u001b[1;32m     <a href='vscode-notebook-cell:/Users/Adrien/Documents/CPE/5ETI/Deep%20Learning/pytorch-enonce/.ipynb_checkpoints/tp2-checkpoint.ipynb#X31sZmlsZQ%3D%3D?line=10'>11</a>\u001b[0m     \u001b[39m# scheduler.step()\u001b[39;00m\n\u001b[0;32m---> <a href='vscode-notebook-cell:/Users/Adrien/Documents/CPE/5ETI/Deep%20Learning/pytorch-enonce/.ipynb_checkpoints/tp2-checkpoint.ipynb#X31sZmlsZQ%3D%3D?line=11'>12</a>\u001b[0m     lr \u001b[39m=\u001b[39m lr0 \u001b[39m*\u001b[39m lr_gamma\u001b[39m*\u001b[39m\u001b[39m*\u001b[39m\u001b[39mint\u001b[39m(epoch\u001b[39m/\u001b[39mlr_step)\n\u001b[1;32m     <a href='vscode-notebook-cell:/Users/Adrien/Documents/CPE/5ETI/Deep%20Learning/pytorch-enonce/.ipynb_checkpoints/tp2-checkpoint.ipynb#X31sZmlsZQ%3D%3D?line=12'>13</a>\u001b[0m     optimizer\u001b[39m.\u001b[39mlr \u001b[39m=\u001b[39m lr\n\u001b[1;32m     <a href='vscode-notebook-cell:/Users/Adrien/Documents/CPE/5ETI/Deep%20Learning/pytorch-enonce/.ipynb_checkpoints/tp2-checkpoint.ipynb#X31sZmlsZQ%3D%3D?line=13'>14</a>\u001b[0m     \u001b[39mprint\u001b[39m (lr)\n",
      "\u001b[0;31mNameError\u001b[0m: name 'lr0' is not defined"
     ]
    }
   ],
   "source": [
    "# to store losses for all epochs / iterations\n",
    "lossesTR    = []\n",
    "lossesTRAll = []\n",
    "lossesTE    = []\n",
    "idxEpoch    = [0]\n",
    "bestAcc     = 0\n",
    "\n",
    "# iterate for each epoch\n",
    "for epoch in range(20):\n",
    "    # potentially decrease lr \n",
    "    # scheduler.step()\n",
    "    lr = lr0 * lr_gamma**int(epoch/lr_step)\n",
    "    optimizer.lr = lr\n",
    "    print (lr)\n",
    "    \n",
    "    losses = []\n",
    "    # Train : 1 epoch <-> loop once one the entire training dataset\n",
    "    start = time.time()\n",
    "    for batch_idx, (inputs, targets) in enumerate(trainloader):\n",
    "        #if cuda_available:\n",
    "        #    inputs, targets = inputs.cuda(), targets.cuda()\n",
    "        # transfer to GPU if avalaible\n",
    "        inputs, targets = inputs.to(device), targets.to(device)\n",
    "\n",
    "        \n",
    "        # clear gradient    \n",
    "        optimizer.zero_grad()\n",
    "        \n",
    "        # convert input to Variable\n",
    "        #inputs, targets = Variable(inputs), Variable(targets)\n",
    "        \n",
    "        # compute the output of the network for the given inputs\n",
    "        outputs = net(inputs)\n",
    "        \n",
    "        # compute the loss function\n",
    "        loss = criterion(outputs, targets)\n",
    "        \n",
    "        # compute the gradient w.r. to all weights \n",
    "        loss.backward()\n",
    "        \n",
    "        # one update of the parameter update\n",
    "        optimizer.step()\n",
    "        \n",
    "        # store loss of the current iterate\n",
    "        losses.append(loss.data.item())\n",
    "        lossesTRAll.append(loss.data.item())\n",
    "    \n",
    "    end = time.time()\n",
    "    # meanlosses = torch.mean(torch.stack(losses)) \n",
    "    lossesTR.append(np.mean(losses))\n",
    "    idxEpoch.append(idxEpoch[-1] + len(losses))\n",
    "    print('Epoch : %d Train Loss : %.3f         time: %.3f' % (epoch, np.mean(losses),end-start))\n",
    "    \n",
    "    # Evaluate the current network on the validation dataset\n",
    "    net.eval()\n",
    "    total = 0\n",
    "    correct = 0\n",
    "    losses = []\n",
    "    start = time.time()\n",
    "    for batch_idx, (inputs, targets) in enumerate(testloader):\n",
    "        # transfer to GPU if avalaible\n",
    "        inputs, targets = inputs.to(device), targets.to(device)\n",
    "\n",
    "        outputs = net(inputs)\n",
    "        loss = criterion(outputs, targets)\n",
    "        losses.append(loss.data.item())\n",
    "        _, predicted = torch.max(outputs.data, 1)\n",
    "        total += targets.size(0)\n",
    "        correct += predicted.eq(targets.data).cpu().sum()\n",
    "    end = time.time()\n",
    "    lossesTE.append(np.mean(losses))\n",
    "    \n",
    "\n",
    "    bestAcc = max(bestAcc,100.*correct/total)\n",
    "    print('Epoch : %d Test Loss  : %.3f        Test Acc %.3f       time: %.3f' % (epoch, np.mean(losses),100.*correct/total,end-start))\n",
    "    print('--------------------------------------------------------------')\n",
    "    net.train()"
   ]
  },
  {
   "cell_type": "markdown",
   "metadata": {},
   "source": [
    "### plot learning curves"
   ]
  },
  {
   "cell_type": "code",
   "execution_count": 34,
   "metadata": {},
   "outputs": [
    {
     "name": "stdout",
     "output_type": "stream",
     "text": [
      "----------------------------------------------------------------------------\n",
      "----------------------------------------------------------------------------\n",
      "----------------------------------------------------------------------------\n",
      "mlp_lr0_1.0e+00\n",
      "best accuracy      : 87.4000015258789\n",
      "best loss on train : 4.557922025813047 idx 15\n",
      "best loss on test  : 9.184965998503813 idx 0\n",
      "n param            : 7850\n"
     ]
    },
    {
     "data": {
      "image/png": "[encoded data removed]",
      "text/plain": [
       "<Figure size 432x288 with 1 Axes>"
      ]
     },
     "metadata": {
      "needs_background": "light"
     },
     "output_type": "display_data"
    }
   ],
   "source": [
    "# to store losses for all epochs / iterations\n",
    "lossesTR\n",
    "dlossesTR[test_name]    = lossesTR\n",
    "dlossesTRAll[test_name] = lossesTRAll\n",
    "dlossesTE[test_name]    = lossesTE\n",
    "didxEpoch[test_name]    = idxEpoch\n",
    "dbestAcc[test_name]     = bestAcc\n",
    "dnbParam[test_name]     = count_parameters(net)\n",
    "\n",
    "#for n in ['convnet', 'CNN2']:\n",
    "for n in [ 'mlp_lr0_1.0e+00' ]: # ajouter dans cette liste le nom des reseaux que vous tester \n",
    "    if n in dlossesTR:\n",
    "        print ('----------------------------------------------------------------------------')\n",
    "        print ('----------------------------------------------------------------------------')\n",
    "        print ('----------------------------------------------------------------------------')\n",
    "        print (n)\n",
    "        print ('best accuracy      : '+str(dbestAcc[n].item()))\n",
    "        print ('best loss on train : '+str(np.min(dlossesTR[n])) + ' idx '+str(np.argmin(dlossesTR[n])))\n",
    "        print ('best loss on test  : '+str(np.min(dlossesTE[n])) + ' idx '+str(np.argmin(dlossesTE[n])))\n",
    "        print ('n param            : '+str(dnbParam[n]))\n",
    "\n",
    "        # evenly sampled time at 200ms intervals\n",
    "        t = np.arange(0, len(dlossesTRAll[n]))\n",
    "\n",
    "        plt.plot(t, dlossesTRAll[n], 'b', didxEpoch[n][1:], dlossesTR[n], 'ro', didxEpoch[n][1:], dlossesTE[n], 'gs')\n",
    "        plt.title(n)\n",
    "        plt.show()"
   ]
  },
  {
   "cell_type": "code",
   "execution_count": null,
   "metadata": {},
   "outputs": [],
   "source": []
  },
  {
   "cell_type": "code",
   "execution_count": null,
   "metadata": {},
   "outputs": [],
   "source": []
  }
 ],
 "metadata": {
  "kernelspec": {
   "display_name": "Python 3 (ipykernel)",
   "language": "python",
   "name": "python3"
  },
  "language_info": {
   "codemirror_mode": {
    "name": "ipython",
    "version": 3
   },
   "file_extension": ".py",
   "mimetype": "text/x-python",
   "name": "python",
   "nbconvert_exporter": "python",
   "pygments_lexer": "ipython3",
   "version": "3.9.5"
  }
 },
 "nbformat": 4,
 "nbformat_minor": 2
}
