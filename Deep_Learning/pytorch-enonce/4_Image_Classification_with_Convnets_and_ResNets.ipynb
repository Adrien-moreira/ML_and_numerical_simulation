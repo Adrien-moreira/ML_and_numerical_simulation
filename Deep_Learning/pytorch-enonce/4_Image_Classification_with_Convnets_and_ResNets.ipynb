{
 "cells": [
  {
   "cell_type": "markdown",
   "metadata": {},
   "source": [
    "## Classifying MNIST & CIFAR-10 with Convnets & ResNets"
   ]
  },
  {
   "cell_type": "code",
   "execution_count": 1,
   "metadata": {},
   "outputs": [],
   "source": [
    "import time\n",
    "import numpy as np\n"
   ]
  },
  {
   "cell_type": "code",
   "execution_count": 2,
   "metadata": {},
   "outputs": [],
   "source": [
    "import torch\n",
    "import torch.nn as nn\n",
    "import torch.optim as optim\n",
    "import torch.nn.init as init\n",
    "import torch.nn.functional as F\n"
   ]
  },
  {
   "cell_type": "code",
   "execution_count": 3,
   "metadata": {},
   "outputs": [],
   "source": [
    "import torchvision\n",
    "import torchvision.transforms"
   ]
  },
  {
   "cell_type": "code",
   "execution_count": 4,
   "metadata": {},
   "outputs": [],
   "source": [
    "import matplotlib.pyplot as plt"
   ]
  },
  {
   "cell_type": "code",
   "execution_count": 5,
   "metadata": {},
   "outputs": [],
   "source": [
    "def count_parameters(model):\n",
    "    #for parameter in model.parameters():\n",
    "    #    print(parameter)\n",
    "    #print ('nb of trainable parameters')\n",
    "    return (sum([p.numel() for p in model.parameters() if p.requires_grad]))\n"
   ]
  },
  {
   "cell_type": "markdown",
   "metadata": {},
   "source": [
    "### Define image transformations &  Initialize datasets"
   ]
  },
  {
   "cell_type": "code",
   "execution_count": 6,
   "metadata": {},
   "outputs": [
    {
     "name": "stdout",
     "output_type": "stream",
     "text": [
      "Dataset MNIST\n",
      "    Number of datapoints: 60000\n",
      "    Root location: ../data\n",
      "    Split: Train\n",
      "    StandardTransform\n",
      "Transform: Compose(\n",
      "               Resize(size=(28, 28), interpolation=bilinear, max_size=None, antialias=warn)\n",
      "               ToTensor()\n",
      "           )\n",
      "Reduced Dataset\n",
      "Number of samples:  6000\n",
      "tensor(0.)\n",
      "tensor(1.)\n",
      "Image Size:  torch.Size([1, 28, 28])\n",
      "3\n"
     ]
    }
   ],
   "source": [
    "# downsample image for speed\n",
    "mnist_transforms = torchvision.transforms.Compose([torchvision.transforms.Resize((28,28), interpolation=2), torchvision.transforms.ToTensor()])\n",
    "\n",
    "mnist_train0     = torchvision.datasets.MNIST(root='../data', train=True,  transform=mnist_transforms, download=True)\n",
    "mnist_test       = torchvision.datasets.MNIST(root='../data', train=False, transform=mnist_transforms, download=True)\n",
    "\n",
    "print (mnist_train0)\n",
    "\n",
    "# subsample dataset for speed\n",
    "# to be removed.... and replaced by torch.utils.data.Subset\n",
    "class Subset(torch.utils.data.Dataset):\n",
    "    def __init__(self, dataset, indices):\n",
    "        self.dataset = dataset\n",
    "        self.indices = indices\n",
    "    def __getitem__(self, idx):\n",
    "        return self.dataset[self.indices[idx]]\n",
    "    def __len__(self):\n",
    "        return len(self.indices)\n",
    "mnist_train = Subset(mnist_train0, range(0,len(mnist_train0),10))   \n",
    "\n",
    "print('Reduced Dataset')\n",
    "print('Number of samples: ', len(mnist_train))\n",
    "img, target = mnist_train[3] # load 4th sample\n",
    "print(img.min())\n",
    "print(img.max())\n",
    "\n",
    "\n",
    "print(\"Image Size: \", img.size())\n",
    "print(target)\n",
    "\n",
    "\n",
    "\n"
   ]
  },
  {
   "cell_type": "markdown",
   "metadata": {},
   "source": [
    "### PLOT SOME RANDOM DIGITS"
   ]
  },
  {
   "cell_type": "code",
   "execution_count": 7,
   "metadata": {},
   "outputs": [
    {
     "data": {
      "image/png": "[encoded data removed]",
      "text/plain": [
       "<Figure size 800x400 with 10 Axes>"
      ]
     },
     "metadata": {},
     "output_type": "display_data"
    }
   ],
   "source": [
    "fig, axes = plt.subplots(nrows=2, ncols=5, figsize=(8, 4), squeeze=False)\n",
    "\n",
    "for i in range(10):\n",
    "    r = i // 5\n",
    "    c = i % 5\n",
    "    idx = np.random.choice(len(mnist_train), 1)[0]\n",
    "    x = mnist_train[idx][0].numpy()\n",
    "    y = mnist_train[idx][1]\n",
    "    axes[r, c].imshow(x[0, :, :])\n",
    "    axes[r, c].set_title('y={}'.format(y))\n",
    "    \n",
    "plt.show()"
   ]
  },
  {
   "cell_type": "markdown",
   "metadata": {},
   "source": [
    "### Create multi-threaded DataLoaders"
   ]
  },
  {
   "cell_type": "code",
   "execution_count": 8,
   "metadata": {},
   "outputs": [],
   "source": [
    "trainloader = torch.utils.data.DataLoader(mnist_train, batch_size=64, shuffle=True, num_workers=0)\n",
    "testloader  = torch.utils.data.DataLoader(mnist_test,  batch_size=64, shuffle=True, num_workers=0)"
   ]
  },
  {
   "cell_type": "markdown",
   "metadata": {},
   "source": [
    "# Main classifier that subclasses nn.Module\n",
    "\n",
    "implements:\n",
    "1. multi layer perceptron\n",
    "2. convolutional neural network\n",
    "3. a convolutional neural network with convolution layers only (implement FC with conv)\n",
    "4. residual network\n"
   ]
  },
  {
   "cell_type": "markdown",
   "metadata": {},
   "source": [
    "#### Multi Layer Perceptron"
   ]
  },
  {
   "cell_type": "code",
   "execution_count": 9,
   "metadata": {},
   "outputs": [],
   "source": [
    "class MLPNet(nn.Module):\n",
    "    def __init__(self,s):\n",
    "        super(MLPNet, self).__init__()\n",
    "        self.name = 'mlp'\n",
    "        self.s    = s\n",
    "        self.fc1  = nn.Linear(int(np.prod(s)), 10)\n",
    "\n",
    "    def forward(self, x):\n",
    "        x = x.view(-1, int(np.prod(self.s)))  # flatten images\n",
    "        x = self.fc1(x)\n",
    "        return (x)\n",
    "\n",
    "class MLPNet2(nn.Module):\n",
    "    def __init__(self,s):\n",
    "        super(MLPNet2, self).__init__()\n",
    "        self.name = 'mlpnet2'\n",
    "        self.s    = s\n",
    "        self.fc1  = nn.Linear(int(np.prod(s)), 500)\n",
    "        self.fc2  = nn.Linear(500, 300)\n",
    "        self.fc3  = nn.Linear(300, 10)\n",
    "\n",
    "    def forward(self, x):\n",
    "        x = x.view(-1, int(np.prod(self.s)))\n",
    "        x = self.fc1(x)\n",
    "        x = F.relu(x)\n",
    "        x = self.fc2(x)\n",
    "        x = F.relu(x)\n",
    "        x = self.fc3(x)\n",
    "        return (x)\n"
   ]
  },
  {
   "cell_type": "markdown",
   "metadata": {},
   "source": [
    "#### Convolutional Neural Network"
   ]
  },
  {
   "cell_type": "code",
   "execution_count": 10,
   "metadata": {},
   "outputs": [],
   "source": [
    "class ConvNet(nn.Module):\n",
    "    \"\"\"Convnet Classifier\"\"\"\n",
    "    def __init__(self):\n",
    "        super(ConvNet,self).__init__()\n",
    "        self.name = 'CNN1'\n",
    "        self.conv = nn.Sequential(nn.Conv2d(1, 32, kernel_size=3, stride=1, padding=1),\n",
    "                                    nn.ReLU(),\n",
    "                                    nn.MaxPool2d(kernel_size=2, stride=2),\n",
    "                                    nn.Conv2d(32, 64, kernel_size=3, stride=1, padding=1),\n",
    "                                    nn.ReLU(),\n",
    "                                    nn.MaxPool2d(kernel_size=2, stride=2))\n",
    "        \n",
    "        self.fc = nn.Linear(7*7*64, 10)\n",
    "\n",
    "\n",
    "    def forward(self, x):\n",
    "        x = self.conv(x)\n",
    "        x = x.view(-1, 7*7*64) \n",
    "        x = self.fc(x)\n",
    "        return x\n",
    "    \n",
    "    \n",
    "    \n",
    "\n",
    "class ResBlock(nn.Module):\n",
    "    def __init__(self, in_channels, out_channels, stride=1):\n",
    "        super(ResBlock, self).__init__()\n",
    "        self.conv1 = nn.Conv2d(in_channels, out_channels, kernel_size=3, stride=stride, padding=1, bias=False)\n",
    "        self.bn1 = nn.BatchNorm2d(out_channels)\n",
    "        self.relu = nn.ReLU(inplace=True)\n",
    "        self.conv2 = nn.Conv2d(out_channels, out_channels, kernel_size=3, stride=1, padding=1, bias=False)\n",
    "        self.bn2 = nn.BatchNorm2d(out_channels)\n",
    "\n",
    "        self.shortcut = nn.Sequential()\n",
    "        if stride != 1 or in_channels != out_channels:\n",
    "            self.shortcut = nn.Sequential(\n",
    "                nn.Conv2d(in_channels, out_channels, kernel_size=1, stride=stride, bias=False),\n",
    "                nn.BatchNorm2d(out_channels)\n",
    "            )\n",
    "\n",
    "    def forward(self, x):\n",
    "        out = self.relu(self.bn1(self.conv1(x)))\n",
    "        out = self.bn2(self.conv2(out))\n",
    "        out += self.shortcut(x)\n",
    "        out = self.relu(out)\n",
    "        return out\n",
    "\n",
    "    \n",
    "    \n",
    "    \n",
    "class ResBlock(nn.Module):\n",
    "    def __init__(self, in_channels, out_channels, stride=1):\n",
    "        super(ResBlock, self).__init__()\n",
    "        self.conv1 = nn.Conv2d(in_channels, out_channels, kernel_size=3, stride=stride, padding=1, bias=False)\n",
    "        self.bn1 = nn.BatchNorm2d(out_channels)\n",
    "        self.relu = nn.ReLU(inplace=True)\n",
    "        self.conv2 = nn.Conv2d(out_channels, out_channels, kernel_size=3, stride=1, padding=1, bias=False)\n",
    "        self.bn2 = nn.BatchNorm2d(out_channels)\n",
    "\n",
    "        self.shortcut = nn.Sequential()\n",
    "        if stride != 1 or in_channels != out_channels:\n",
    "            self.shortcut = nn.Sequential(\n",
    "                nn.Conv2d(in_channels, out_channels, kernel_size=1, stride=stride, bias=False),\n",
    "                nn.BatchNorm2d(out_channels)\n",
    "            )\n",
    "\n",
    "    def forward(self, x):\n",
    "        out = self.relu(self.bn1(self.conv1(x)))\n",
    "        out = self.bn2(self.conv2(out))\n",
    "        out += self.shortcut(x)\n",
    "        out = self.relu(out)\n",
    "        return out\n",
    "\n",
    "    "
   ]
  },
  {
   "cell_type": "code",
   "execution_count": 12,
   "metadata": {},
   "outputs": [],
   "source": [
    "## initialize the network parameters\n",
    "\n",
    "def init_params(net):\n",
    "    '''Init layer parameters.'''\n",
    "    for m in net.modules():\n",
    "        #print(m)\n",
    "        if isinstance(m, nn.Conv2d):\n",
    "            init.kaiming_normal_(m.weight, mode='fan_out')\n",
    "            #if m.bias:\n",
    "            #init.constant_(m.bias, 0)\n",
    "        elif isinstance(m, nn.BatchNorm2d):\n",
    "            init.constant_(m.weight, 1)\n",
    "            init.constant_(m.bias, 0)\n",
    "        elif isinstance(m, nn.Linear):\n",
    "            init.normal_(m.weight, std=1e-3)\n",
    "            #if m.bias:\n",
    "            init.constant_(m.bias, 0) "
   ]
  },
  {
   "cell_type": "code",
   "execution_count": 13,
   "metadata": {},
   "outputs": [
    {
     "name": "stdout",
     "output_type": "stream",
     "text": [
      "use CPU\n"
     ]
    }
   ],
   "source": [
    "if torch.cuda.is_available():\n",
    "    print('use cuda')\n",
    "    device = torch.device('cuda')\n",
    "else:\n",
    "    print('use CPU')\n",
    "    device = torch.device('cpu')"
   ]
  },
  {
   "cell_type": "code",
   "execution_count": 14,
   "metadata": {},
   "outputs": [],
   "source": [
    "dlossesTR    = {}\n",
    "dlossesTRAll = {}\n",
    "dlossesTE    = {}\n",
    "didxEpoch    = {}\n",
    "dbestAcc     = {}\n",
    "dnbParam     = {}"
   ]
  },
  {
   "cell_type": "code",
   "execution_count": 15,
   "metadata": {},
   "outputs": [
    {
     "name": "stdout",
     "output_type": "stream",
     "text": [
      "CNN1_lr0_1.0e-03\n"
     ]
    }
   ],
   "source": [
    "s = mnist_train[0][0].size()\n",
    "\n",
    "#net = MLPNet2(s)\n",
    "net = ConvNet()\n",
    "#net = ResNet()\n",
    "\n",
    "# randon init of the network weight\n",
    "init_params(net)\n",
    "\n",
    "\n",
    "lr0 = 1e-3\n",
    "\n",
    "test_name = net.name + '_lr0_' + \"{:.1e}\".format(lr0)\n",
    "print(test_name)\n",
    "\n",
    "# transfer the network on gpu if avalaible\n",
    "net = net.to(device)\n",
    "\n",
    "optimizer = torch.optim.Adam(net.parameters(), lr=lr0)\n",
    "criterion = nn.CrossEntropyLoss()\n",
    "\n",
    "# scheduler = torch.optim.lr_scheduler.StepLR(optimizer, step_size=5, gamma=0.5)\n",
    "lr_step  = 5\n",
    "lr_gamma = 0.1\n"
   ]
  },
  {
   "cell_type": "code",
   "execution_count": 16,
   "metadata": {
    "scrolled": true
   },
   "outputs": [
    {
     "name": "stdout",
     "output_type": "stream",
     "text": [
      "0.001\n",
      "Epoch : 0 Train Loss : 1.004         time: 5.323\n",
      "Epoch : 0 Test Loss  : 0.375        Test Acc 89.130       time: 3.957\n",
      "--------------------------------------------------------------\n",
      "0.001\n",
      "Epoch : 1 Train Loss : 0.298         time: 4.869\n",
      "Epoch : 1 Test Loss  : 0.218        Test Acc 93.380       time: 4.270\n",
      "--------------------------------------------------------------\n",
      "0.001\n",
      "Epoch : 2 Train Loss : 0.195         time: 5.007\n",
      "Epoch : 2 Test Loss  : 0.160        Test Acc 95.250       time: 4.327\n",
      "--------------------------------------------------------------\n",
      "0.001\n",
      "Epoch : 3 Train Loss : 0.149         time: 5.114\n",
      "Epoch : 3 Test Loss  : 0.143        Test Acc 95.440       time: 4.829\n",
      "--------------------------------------------------------------\n",
      "0.001\n",
      "Epoch : 4 Train Loss : 0.111         time: 5.025\n",
      "Epoch : 4 Test Loss  : 0.132        Test Acc 95.870       time: 4.016\n",
      "--------------------------------------------------------------\n",
      "0.0001\n",
      "Epoch : 5 Train Loss : 0.094         time: 4.680\n",
      "Epoch : 5 Test Loss  : 0.098        Test Acc 96.970       time: 5.146\n",
      "--------------------------------------------------------------\n",
      "0.0001\n",
      "Epoch : 6 Train Loss : 0.074         time: 5.339\n",
      "Epoch : 6 Test Loss  : 0.098        Test Acc 96.800       time: 4.376\n",
      "--------------------------------------------------------------\n",
      "0.0001\n",
      "Epoch : 7 Train Loss : 0.063         time: 5.447\n",
      "Epoch : 7 Test Loss  : 0.091        Test Acc 97.100       time: 4.507\n",
      "--------------------------------------------------------------\n",
      "0.0001\n",
      "Epoch : 8 Train Loss : 0.052         time: 4.878\n"
     ]
    }
   ],
   "source": [
    "# to store losses for all epochs / iterations\n",
    "lossesTR    = []\n",
    "lossesTRAll = []\n",
    "lossesTE    = []\n",
    "idxEpoch    = [0]\n",
    "bestAcc     = 0\n",
    "\n",
    "# iterate for each epoch\n",
    "for epoch in range(20):\n",
    "    # potentially decrease lr \n",
    "    # scheduler.step()\n",
    "    lr = lr0 * lr_gamma**int(epoch/lr_step)\n",
    "    optimizer.lr = lr\n",
    "    print (lr)\n",
    "    \n",
    "    losses = []\n",
    "    # Train : 1 epoch <-> loop once one the entire training dataset\n",
    "    start = time.time()\n",
    "    for batch_idx, (inputs, targets) in enumerate(trainloader):\n",
    "        #if cuda_available:\n",
    "        #    inputs, targets = inputs.cuda(), targets.cuda()\n",
    "        # transfer to GPU if avalaible\n",
    "        inputs, targets = inputs.to(device), targets.to(device)\n",
    "\n",
    "        \n",
    "        # clear gradient    \n",
    "        optimizer.zero_grad()\n",
    "        \n",
    "        # convert input to Variable\n",
    "        #inputs, targets = Variable(inputs), Variable(targets)\n",
    "        \n",
    "        # compute the output of the network for the given inputs\n",
    "        outputs = net(inputs)\n",
    "        \n",
    "        # compute the loss function\n",
    "        loss = criterion(outputs, targets)\n",
    "        \n",
    "        # compute the gradient w.r. to all weights \n",
    "        loss.backward()\n",
    "        \n",
    "        # one update of the parameter update\n",
    "        optimizer.step()\n",
    "        \n",
    "        # store loss of the current iterate\n",
    "        losses.append(loss.data.item())\n",
    "        lossesTRAll.append(loss.data.item())\n",
    "    \n",
    "    end = time.time()\n",
    "    # meanlosses = torch.mean(torch.stack(losses)) \n",
    "    lossesTR.append(np.mean(losses))\n",
    "    idxEpoch.append(idxEpoch[-1] + len(losses))\n",
    "    print('Epoch : %d Train Loss : %.3f         time: %.3f' % (epoch, np.mean(losses),end-start))\n",
    "    \n",
    "    # Evaluate the current network on the validation dataset\n",
    "    net.eval()\n",
    "    total = 0\n",
    "    correct = 0\n",
    "    losses = []\n",
    "    start = time.time()\n",
    "    for batch_idx, (inputs, targets) in enumerate(testloader):\n",
    "        # transfer to GPU if avalaible\n",
    "        inputs, targets = inputs.to(device), targets.to(device)\n",
    "\n",
    "        outputs = net(inputs)\n",
    "        loss = criterion(outputs, targets)\n",
    "        losses.append(loss.data.item())\n",
    "        _, predicted = torch.max(outputs.data, 1)\n",
    "        total += targets.size(0)\n",
    "        correct += predicted.eq(targets.data).cpu().sum()\n",
    "    end = time.time()\n",
    "    lossesTE.append(np.mean(losses))\n",
    "    \n",
    "\n",
    "    bestAcc = max(bestAcc,100.*correct/total)\n",
    "    print('Epoch : %d Test Loss  : %.3f        Test Acc %.3f       time: %.3f' % (epoch, np.mean(losses),100.*correct/total,end-start))\n",
    "    print('--------------------------------------------------------------')\n",
    "    net.train()"
   ]
  },
  {
   "cell_type": "markdown",
   "metadata": {},
   "source": [
    "### plot learning curves"
   ]
  },
  {
   "cell_type": "code",
   "execution_count": 25,
   "metadata": {},
   "outputs": [],
   "source": [
    "# to store losses for all epochs / iterations\n",
    "lossesTR\n",
    "dlossesTR[test_name]    = lossesTR\n",
    "dlossesTRAll[test_name] = lossesTRAll\n",
    "dlossesTE[test_name]    = lossesTE\n",
    "didxEpoch[test_name]    = idxEpoch\n",
    "dbestAcc[test_name]     = bestAcc\n",
    "dnbParam[test_name]     = count_parameters(net)\n",
    "\n",
    "#for n in ['convnet', 'CNN2']:\n",
    "for n in [ 'mlp_lr0_1.0e+00', 'mlp_lr0_1.0e-03' ]: \n",
    "    if n in dlossesTR:\n",
    "        print ('----------------------------------------------------------------------------')\n",
    "        print ('----------------------------------------------------------------------------')\n",
    "        print ('----------------------------------------------------------------------------')\n",
    "        print (n)\n",
    "        print ('best accuracy      : '+str(dbestAcc[n].item()))\n",
    "        print ('best loss on train : '+str(np.min(dlossesTR[n])) + ' idx '+str(np.argmin(dlossesTR[n])))\n",
    "        print ('best loss on test  : '+str(np.min(dlossesTE[n])) + ' idx '+str(np.argmin(dlossesTE[n])))\n",
    "        print ('n param            : '+str(dnbParam[n]))\n",
    "\n",
    "        # evenly sampled time at 200ms intervals\n",
    "        t = np.arange(0, len(dlossesTRAll[n]))\n",
    "\n",
    "        plt.plot(t, dlossesTRAll[n], 'b', didxEpoch[n][1:], dlossesTR[n], 'ro', didxEpoch[n][1:], dlossesTE[n], 'gs')\n",
    "        plt.title(n)\n",
    "        plt.show()"
   ]
  }
 ],
 "metadata": {
  "kernelspec": {
   "display_name": "Python 3 (ipykernel)",
   "language": "python",
   "name": "python3"
  },
  "language_info": {
   "codemirror_mode": {
    "name": "ipython",
    "version": 3
   },
   "file_extension": ".py",
   "mimetype": "text/x-python",
   "name": "python",
   "nbconvert_exporter": "python",
   "pygments_lexer": "ipython3",
   "version": "3.9.5"
  }
 },
 "nbformat": 4,
 "nbformat_minor": 2
}
